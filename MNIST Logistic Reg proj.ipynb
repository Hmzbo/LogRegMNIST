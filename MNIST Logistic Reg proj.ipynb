{
 "cells": [
  {
   "cell_type": "markdown",
   "metadata": {},
   "source": [
    "# Logistic regression with a neural network mindset: MNIST digits classification\n",
    "\n",
    "In this project we're going to implement from scratch a one-vs-all logistic regression classifier for the MNIST digits dataset with a neural network mindset. The neural network aspect of this implementation is the use of a forward and backward propagation to claculate the value of the cost function and the partial derivatives of the cost function with respect to weights and the bias, more information in the pdf file."
   ]
  },
  {
   "cell_type": "markdown",
   "metadata": {},
   "source": [
    "## Importing and preprocessing data"
   ]
  },
  {
   "cell_type": "code",
   "execution_count": 1,
   "metadata": {},
   "outputs": [],
   "source": [
    "# Importing necessary libraries\n",
    "\n",
    "import sys\n",
    "import numpy as np\n",
    "import pandas as pd\n",
    "import matplotlib.pyplot as plt\n",
    "import seaborn as sb\n",
    "%matplotlib inline\n",
    "\n",
    "from scipy.io import loadmat\n",
    "from sklearn.metrics import accuracy_score, confusion_matrix\n",
    "from sklearn.model_selection import train_test_split"
   ]
  },
  {
   "cell_type": "code",
   "execution_count": 2,
   "metadata": {},
   "outputs": [],
   "source": [
    "# Loading MNIST data\n",
    "\n",
    "mnist = loadmat(\"mnist-original.mat\")\n",
    "mnist_data = mnist[\"data\"].T\n",
    "mnist_label = mnist[\"label\"][0]"
   ]
  },
  {
   "cell_type": "code",
   "execution_count": 3,
   "metadata": {},
   "outputs": [
    {
     "data": {
      "text/plain": [
       "array([[0, 0, 0, ..., 0, 0, 0],\n",
       "       [0, 0, 0, ..., 0, 0, 0],\n",
       "       [0, 0, 0, ..., 0, 0, 0],\n",
       "       ...,\n",
       "       [0, 0, 0, ..., 0, 0, 0],\n",
       "       [0, 0, 0, ..., 0, 0, 0],\n",
       "       [0, 0, 0, ..., 0, 0, 0]], dtype=uint8)"
      ]
     },
     "execution_count": 3,
     "metadata": {},
     "output_type": "execute_result"
    }
   ],
   "source": [
    "mnist_data"
   ]
  },
  {
   "cell_type": "code",
   "execution_count": 4,
   "metadata": {},
   "outputs": [
    {
     "data": {
      "text/plain": [
       "28"
      ]
     },
     "execution_count": 4,
     "metadata": {},
     "output_type": "execute_result"
    }
   ],
   "source": [
    "image_size_px = int(np.sqrt(mnist_data.shape[1]))\n",
    "image_size_px"
   ]
  },
  {
   "cell_type": "code",
   "execution_count": 5,
   "metadata": {},
   "outputs": [],
   "source": [
    "# Viewing a random MNIST image\n",
    "\n",
    "def mnist_random_example():\n",
    "    idx = np.random.randint(70000)\n",
    "    exp = mnist_data[idx].reshape(image_size_px,image_size_px)\n",
    "    print(\"The number in the image below is:\", mnist_label[idx])\n",
    "    plt.imshow(exp)"
   ]
  },
  {
   "cell_type": "code",
   "execution_count": 6,
   "metadata": {},
   "outputs": [
    {
     "name": "stdout",
     "output_type": "stream",
     "text": [
      "The number in the image below is: 4.0\n"
     ]
    },
    {
     "data": {
      "image/png": "[encoded data removed]",
      "text/plain": [
       "<Figure size 432x288 with 1 Axes>"
      ]
     },
     "metadata": {
      "needs_background": "light"
     },
     "output_type": "display_data"
    }
   ],
   "source": [
    "mnist_random_example()"
   ]
  },
  {
   "cell_type": "code",
   "execution_count": 7,
   "metadata": {},
   "outputs": [],
   "source": [
    "# creating a normalization function\n",
    "\n",
    "def normalize(data):\n",
    "    mean = np.mean(data, axis=1, keepdims=True)\n",
    "    std = np.std(data, axis=1, keepdims=True)\n",
    "    data_normalized = (data - mean)/std\n",
    "    return data_normalized"
   ]
  },
  {
   "cell_type": "code",
   "execution_count": 8,
   "metadata": {},
   "outputs": [],
   "source": [
    "# Normalizing the data\n",
    "\n",
    "mnist_data_normalized = normalize(mnist_data)"
   ]
  },
  {
   "cell_type": "code",
   "execution_count": 9,
   "metadata": {},
   "outputs": [
    {
     "name": "stdout",
     "output_type": "stream",
     "text": [
      "The shape of the training set feature matrix is: (56000, 784)\n",
      "The shape of the training label vector is: (56000, 1)\n",
      "The shape of the test set feature matrix is: (14000, 784)\n",
      "The shape of the test label vector is: (14000, 1)\n"
     ]
    }
   ],
   "source": [
    "# Splitting the data into Train and Test datasets\n",
    "\n",
    "X_train, X_test, Y_train, Y_test = train_test_split(mnist_data_normalized, mnist_label, test_size=0.20, random_state=42)\n",
    "Y_train = Y_train.reshape(Y_train.shape[0],1)\n",
    "Y_test = Y_test.reshape(Y_test.shape[0],1)\n",
    "print(\"The shape of the training set feature matrix is:\", X_train.shape)\n",
    "print(\"The shape of the training label vector is:\", Y_train.shape)\n",
    "print(\"The shape of the test set feature matrix is:\", X_test.shape)\n",
    "print(\"The shape of the test label vector is:\", Y_test.shape)"
   ]
  },
  {
   "cell_type": "code",
   "execution_count": 10,
   "metadata": {},
   "outputs": [],
   "source": [
    "# Creating new training label vectors for each digit for the one-vs-all methode\n",
    "\n",
    "Y_train_0=(Y_train==0).astype(int)\n",
    "Y_train_1=(Y_train==1).astype(int)\n",
    "Y_train_2=(Y_train==2).astype(int)\n",
    "Y_train_3=(Y_train==3).astype(int)\n",
    "Y_train_4=(Y_train==4).astype(int)\n",
    "Y_train_5=(Y_train==5).astype(int)\n",
    "Y_train_6=(Y_train==6).astype(int)\n",
    "Y_train_7=(Y_train==7).astype(int)\n",
    "Y_train_8=(Y_train==8).astype(int)\n",
    "Y_train_9=(Y_train==9).astype(int)"
   ]
  },
  {
   "cell_type": "code",
   "execution_count": 11,
   "metadata": {},
   "outputs": [],
   "source": [
    "# Creating new testing label vectors for each digit for the one-vs-all methode\n",
    "\n",
    "Y_test_0=(Y_test==0).astype(int)\n",
    "Y_test_1=(Y_test==1).astype(int)\n",
    "Y_test_2=(Y_test==2).astype(int)\n",
    "Y_test_3=(Y_test==3).astype(int)\n",
    "Y_test_4=(Y_test==4).astype(int)\n",
    "Y_test_5=(Y_test==5).astype(int)\n",
    "Y_test_6=(Y_test==6).astype(int)\n",
    "Y_test_7=(Y_test==7).astype(int)\n",
    "Y_test_8=(Y_test==8).astype(int)\n",
    "Y_test_9=(Y_test==9).astype(int)"
   ]
  },
  {
   "cell_type": "markdown",
   "metadata": {},
   "source": [
    "## Creating model functions"
   ]
  },
  {
   "cell_type": "code",
   "execution_count": 12,
   "metadata": {},
   "outputs": [],
   "source": [
    "# Creating initilizer function to initialize weights and bias\n",
    "\n",
    "def initializer(nbr_features):\n",
    "    W = np.zeros((nbr_features,1))\n",
    "    B = 0\n",
    "    return W, B"
   ]
  },
  {
   "cell_type": "code",
   "execution_count": 13,
   "metadata": {},
   "outputs": [],
   "source": [
    "# Creating a Sigmoid function\n",
    "\n",
    "def sigmoid(x):\n",
    "    s = 1/(1+np.exp(-x))\n",
    "    return s"
   ]
  },
  {
   "cell_type": "code",
   "execution_count": 14,
   "metadata": {},
   "outputs": [],
   "source": [
    "# Creating the Forward and backward propagation function which calculates J, dW, and dB\n",
    "\n",
    "def ForwardBackProp(X, Y, W, B):\n",
    "    m = X.shape[0] \n",
    "    dw = np.zeros((W.shape[0],1))\n",
    "    dB = 0\n",
    "    \n",
    "    Z = np.dot(X,W)+B\n",
    "    Yhat = sigmoid(Z) \n",
    "    J = -(1/m)*(np.dot(Y.T,np.log(Yhat))+np.dot((1-Y).T,np.log(1-Yhat)))\n",
    "    dW = (1/m)*np.dot(X.T,(Yhat-Y))\n",
    "    dB = (1/m)*np.sum(Yhat-Y)\n",
    "    return J, dW, dB"
   ]
  },
  {
   "cell_type": "code",
   "execution_count": 15,
   "metadata": {},
   "outputs": [],
   "source": [
    "# Creating a prediction function which predicts the labels of the input images\n",
    "\n",
    "def predict(X,W,B):\n",
    "    Yhat_prob = sigmoid(np.dot(X,W)+B)\n",
    "    Yhat = np.round(Yhat_prob).astype(int)\n",
    "    return Yhat, Yhat_prob"
   ]
  },
  {
   "cell_type": "code",
   "execution_count": 16,
   "metadata": {},
   "outputs": [],
   "source": [
    "# Creating the gradient descent optimizer function\n",
    "\n",
    "def gradient_descent(X, Y, W, B, alpha, max_iter):\n",
    "    i=0\n",
    "    RMSE = 1\n",
    "    cost_history=[]\n",
    "    \n",
    "    # setup toolbar\n",
    "    toolbar_width = 20\n",
    "    sys.stdout.write(\"[%s]\" % (\"\" * toolbar_width))\n",
    "    sys.stdout.flush()\n",
    "    sys.stdout.write(\"\\b\" * (toolbar_width+1)) # return to start of line, after '['\n",
    "    \n",
    "    while (i<max_iter)&(RMSE>10e-6):\n",
    "        J, dW, dB = ForwardBackProp(X,Y,W,B)\n",
    "        W = W - alpha*dW\n",
    "        B = B - alpha*dB\n",
    "        cost_history.append(J)\n",
    "        Yhat, _ = predict(X,W,B)\n",
    "        RMSE = np.sqrt(np.mean(Yhat-Y)**2)\n",
    "        i+=1\n",
    "        if i%50==0:\n",
    "            sys.stdout.write(\"=\")\n",
    "            sys.stdout.flush()\n",
    "    \n",
    "    sys.stdout.write(\"]\\n\") # this ends the progress bar\n",
    "    return cost_history, W, B, i"
   ]
  },
  {
   "cell_type": "code",
   "execution_count": 17,
   "metadata": {},
   "outputs": [],
   "source": [
    "# Creating the model function which trains a model and return its parameters. \n",
    "\n",
    "def LogRegModel(X_train, X_test, Y_train, Y_test, alpha, max_iter):\n",
    "    \n",
    "    nbr_features = X_train.shape[1]\n",
    "    W, B = initializer(nbr_features)\n",
    "    cost_history, W, B, i = gradient_descent(X_train, Y_train, W, B, alpha, max_iter)\n",
    "    Yhat_train, _ = predict(X_train, W, B)\n",
    "    Yhat, _ = predict(X_test, W, B)\n",
    "    \n",
    "    train_accuracy = accuracy_score(Y_train, Yhat_train)\n",
    "    test_accuracy = accuracy_score(Y_test, Yhat)\n",
    "    conf_matrix = confusion_matrix(Y_test, Yhat, normalize='true')\n",
    "    \n",
    "    model = {\"weights\": W,\n",
    "            \"bias\": B,\n",
    "            \"train_accuracy\": train_accuracy,\n",
    "            \"test_accuracy\": test_accuracy,\n",
    "            \"confusion_matrix\": conf_matrix,\n",
    "            \"cost_history\": cost_history}\n",
    "    return model"
   ]
  },
  {
   "cell_type": "markdown",
   "metadata": {},
   "source": [
    "## Training a test model for the digit \"0\""
   ]
  },
  {
   "cell_type": "code",
   "execution_count": 18,
   "metadata": {
    "scrolled": true
   },
   "outputs": [
    {
     "name": "stdout",
     "output_type": "stream",
     "text": [
      "Progress bar: 1 step each 50 iteration\n",
      "[====================]\n",
      "Training completed!\n"
     ]
    }
   ],
   "source": [
    "# Testing the model function by training a classifier for the digit '0'\n",
    "\n",
    "print('Progress bar: 1 step each 50 iteration')\n",
    "model_0 = LogRegModel(X_train, X_test, Y_train_0, Y_test_0, alpha=0.01, max_iter=1000)\n",
    "print('Training completed!')"
   ]
  },
  {
   "cell_type": "code",
   "execution_count": 19,
   "metadata": {},
   "outputs": [
    {
     "data": {
      "image/png": "[encoded data removed]",
      "text/plain": [
       "<Figure size 432x288 with 1 Axes>"
      ]
     },
     "metadata": {
      "needs_background": "light"
     },
     "output_type": "display_data"
    }
   ],
   "source": [
    "# Viewing the cost evolution over time of the trained model\n",
    "\n",
    "cost = np.concatenate(model_0['cost_history']).ravel().tolist()\n",
    "plt.plot(list(range(len(cost))),cost)\n",
    "plt.title('Evolution of the cost by iteration')\n",
    "plt.xlabel('Iteration')\n",
    "plt.ylabel('Cost');"
   ]
  },
  {
   "cell_type": "code",
   "execution_count": 20,
   "metadata": {},
   "outputs": [
    {
     "name": "stdout",
     "output_type": "stream",
     "text": [
      "The training accuracy of the model 0.9882321428571429\n",
      "The test accuracy of the model 0.9875\n"
     ]
    }
   ],
   "source": [
    "# Checking the accuracy of the model\n",
    "\n",
    "print('The training accuracy of the model',model_0['train_accuracy'])\n",
    "print('The test accuracy of the model',model_0['test_accuracy'])"
   ]
  },
  {
   "cell_type": "code",
   "execution_count": 21,
   "metadata": {},
   "outputs": [],
   "source": [
    "# Creating a function that shows a random image with the true and predicted label\n",
    "\n",
    "def check_random_pred(datum,Y,model,label):\n",
    "    W = model['weights']\n",
    "    B = model['bias']\n",
    "    Yhat, _ = predict(datum,W,B)\n",
    "    if Yhat == 1:\n",
    "        pred_label = label\n",
    "    else:\n",
    "        pred_label = 'Not '+ label\n",
    "    if Y == 1:\n",
    "        true_label = label\n",
    "    else:\n",
    "        true_label = 'Not '+ label\n",
    "    print(\"The number in the image below is:\", true_label, ' and predicted as:', pred_label)\n",
    "    image = datum.reshape(image_size_px,image_size_px)\n",
    "    plt.imshow(image)"
   ]
  },
  {
   "cell_type": "code",
   "execution_count": 22,
   "metadata": {},
   "outputs": [
    {
     "name": "stdout",
     "output_type": "stream",
     "text": [
      "The number in the image below is: Not 0  and predicted as: Not 0\n"
     ]
    },
    {
     "data": {
      "image/png": "[encoded data removed]",
      "text/plain": [
       "<Figure size 432x288 with 1 Axes>"
      ]
     },
     "metadata": {
      "needs_background": "light"
     },
     "output_type": "display_data"
    }
   ],
   "source": [
    "# Checking some random image predictions\n",
    "\n",
    "idx = np.random.randint(X_test.shape[0])\n",
    "datum = X_test[idx]\n",
    "Y = Y_test_0[idx]\n",
    "check_random_pred(datum,Y,model_0, '0')"
   ]
  },
  {
   "cell_type": "markdown",
   "metadata": {},
   "source": [
    "## Training a model for each digit"
   ]
  },
  {
   "cell_type": "code",
   "execution_count": 23,
   "metadata": {},
   "outputs": [
    {
     "name": "stdout",
     "output_type": "stream",
     "text": [
      "Training of a classifier for each digit:\n",
      "Training of the model:  model_0 , to recognize the digit:  0\n",
      "Training progress bar: 1 step each 50 iteration\n",
      "[====================]\n",
      "Training completed!\n",
      "Accuracy: 0.9875\n",
      "------------------------------------------------------------\n",
      "Training of the model:  model_1 , to recognize the digit:  1\n",
      "Training progress bar: 1 step each 50 iteration\n",
      "[====================]\n",
      "Training completed!\n",
      "Accuracy: 0.9917857142857143\n",
      "------------------------------------------------------------\n",
      "Training of the model:  model_2 , to recognize the digit:  2\n",
      "Training progress bar: 1 step each 50 iteration\n",
      "[====================]\n",
      "Training completed!\n",
      "Accuracy: 0.9753571428571428\n",
      "------------------------------------------------------------\n",
      "Training of the model:  model_3 , to recognize the digit:  3\n",
      "Training progress bar: 1 step each 50 iteration\n",
      "[====================]\n",
      "Training completed!\n",
      "Accuracy: 0.9692142857142857\n",
      "------------------------------------------------------------\n",
      "Training of the model:  model_4 , to recognize the digit:  4\n",
      "Training progress bar: 1 step each 50 iteration\n",
      "[====================]\n",
      "Training completed!\n",
      "Accuracy: 0.9796428571428571\n",
      "------------------------------------------------------------\n",
      "Training of the model:  model_5 , to recognize the digit:  5\n",
      "Training progress bar: 1 step each 50 iteration\n",
      "[====================]\n",
      "Training completed!\n",
      "Accuracy: 0.9651428571428572\n",
      "------------------------------------------------------------\n",
      "Training of the model:  model_6 , to recognize the digit:  6\n",
      "Training progress bar: 1 step each 50 iteration\n",
      "[====================]\n",
      "Training completed!\n",
      "Accuracy: 0.9831428571428571\n",
      "------------------------------------------------------------\n",
      "Training of the model:  model_7 , to recognize the digit:  7\n",
      "Training progress bar: 1 step each 50 iteration\n",
      "[====================]\n",
      "Training completed!\n",
      "Accuracy: 0.9806428571428571\n",
      "------------------------------------------------------------\n",
      "Training of the model:  model_8 , to recognize the digit:  8\n",
      "Training progress bar: 1 step each 50 iteration\n",
      "[====================]\n",
      "Training completed!\n",
      "Accuracy: 0.9408571428571428\n",
      "------------------------------------------------------------\n",
      "Training of the model:  model_9 , to recognize the digit:  9\n",
      "Training progress bar: 1 step each 50 iteration\n",
      "[====================]\n",
      "Training completed!\n",
      "Accuracy: 0.9566428571428571\n",
      "------------------------------------------------------------\n"
     ]
    }
   ],
   "source": [
    "# Creating and training a model for each digit\n",
    "\n",
    "models_list=[]\n",
    "models_name_list=['model_0','model_1','model_2','model_3','model_4','model_5','model_6',\n",
    "                 'model_7','model_8','model_9']\n",
    "Y_train_list=[Y_train_0,Y_train_1,Y_train_2,Y_train_3,Y_train_4,Y_train_5,Y_train_6,\n",
    "             Y_train_7,Y_train_8,Y_train_9]\n",
    "Y_test_list = [Y_test_0,Y_test_1,Y_test_2,Y_test_3,Y_test_4,Y_test_5,Y_test_6,Y_test_7,\n",
    "              Y_test_8,Y_test_9]\n",
    "print('Training of a classifier for each digit:')\n",
    "for i in range(10):\n",
    "    print('Training of the model: ', models_name_list[i],', to recognize the digit: ',i)\n",
    "    print('Training progress bar: 1 step each 50 iteration')\n",
    "    model = LogRegModel(X_train, X_test, Y_train_list[i], Y_test_list[i], alpha=0.01, max_iter=1000)\n",
    "    print('Training completed!')\n",
    "    print('Accuracy:', model['test_accuracy'])\n",
    "    print('-'*60)\n",
    "    models_list.append(model)"
   ]
  },
  {
   "cell_type": "code",
   "execution_count": 24,
   "metadata": {},
   "outputs": [
    {
     "name": "stdout",
     "output_type": "stream",
     "text": [
      "The accuracy of the Onve-Vs-All model is: 0.9729928571428571\n"
     ]
    }
   ],
   "source": [
    "# Calculatin gthe average accuracy of all the models\n",
    "\n",
    "accuracy_list=[]\n",
    "for i in range(len(models_list)):\n",
    "    accuracy_list.append(models_list[i]['test_accuracy'])\n",
    "ove_vs_all_accuracy=np.mean(accuracy_list)\n",
    "print('The accuracy of the Onve-Vs-All model is:', ove_vs_all_accuracy)"
   ]
  },
  {
   "cell_type": "markdown",
   "metadata": {},
   "source": [
    "## Final model for digit classification"
   ]
  },
  {
   "cell_type": "code",
   "execution_count": 25,
   "metadata": {},
   "outputs": [],
   "source": [
    "# Creating a one-vs-all function that uses all the trained models to predict the label of a random image\n",
    "\n",
    "def one_vs_all(data, models_list):\n",
    "    pred_matrix = np.zeros((data.shape[0],10))\n",
    "    for i in range(len(models_list)):\n",
    "        W = models_list[i]['weights']\n",
    "        B = models_list[i]['bias']\n",
    "        Yhat, Yhat_prob = predict(data,W,B)\n",
    "        pred_matrix[:,i] = Yhat_prob.T\n",
    "    max_prob_vec = np.amax(pred_matrix, axis=1, keepdims=True)\n",
    "    pred_matrix_max_prob = (pred_matrix == max_prob_vec).astype(int)\n",
    "    labels=[]\n",
    "    for j in range(pred_matrix_max_prob.shape[0]):\n",
    "        idx = np.where(pred_matrix_max_prob[j,:]==1)\n",
    "        labels.append(idx)\n",
    "    labels = np.vstack(labels).flatten()\n",
    "    return labels"
   ]
  },
  {
   "cell_type": "code",
   "execution_count": 26,
   "metadata": {},
   "outputs": [],
   "source": [
    "pred_label = one_vs_all(X_test, models_list)\n",
    "conf_matrix = confusion_matrix(Y_test, pred_label)\n",
    "\n",
    "def plot_cm(mat,y_ture,ax,case):\n",
    "    if case == 0:\n",
    "        df_cm = pd.DataFrame(mat, columns=np.unique(y_ture), index = np.unique(y_ture))\n",
    "        df_cm.index.name = 'True Label'\n",
    "        df_cm.columns.name = 'Predicted Label'\n",
    "        sb.heatmap(df_cm, cmap=\"Blues\", cbar=False, annot=True,annot_kws={\"size\": 10}, ax=ax)\n",
    "        plt.yticks(fontsize=10)\n",
    "        plt.xticks(fontsize=10)\n",
    "    else:\n",
    "        l_lab=['Goalkeeper','Defender','Midfielder','Forward']\n",
    "        df_cm = pd.DataFrame(mat, columns=np.array(l_lab), index = np.unique(l_lab))\n",
    "        df_cm.index.name = 'True Label'\n",
    "        df_cm.columns.name = 'Predicted Label'\n",
    "        sb.heatmap(df_cm, cmap=\"Blues\", cbar=False, annot=True,annot_kws={\"size\": 10}, ax=ax)\n",
    "        plt.yticks(fontsize=10)\n",
    "        plt.xticks(fontsize=10)"
   ]
  },
  {
   "cell_type": "code",
   "execution_count": 27,
   "metadata": {},
   "outputs": [
    {
     "data": {
      "image/png": "[encoded data removed]",
      "text/plain": [
       "<Figure size 720x504 with 1 Axes>"
      ]
     },
     "metadata": {
      "needs_background": "light"
     },
     "output_type": "display_data"
    }
   ],
   "source": [
    "plt.figure(figsize=(10,7))\n",
    "ax1 = plt.subplot(111)\n",
    "plt.title('Confusion matrix of the one-vs-all logistic regression classifier', fontsize=16)\n",
    "plot_cm(conf_matrix, Y_test, ax1,0)"
   ]
  },
  {
   "cell_type": "code",
   "execution_count": 28,
   "metadata": {},
   "outputs": [],
   "source": [
    "# esting the one-vs-all function on 6 random examples \n",
    "\n",
    "examples_number = 6 \n",
    "index_random_sample = np.random.randint(70000, size=(1,examples_number))\n",
    "example = mnist_data_normalized[index_random_sample].reshape(examples_number ,784)\n",
    "true_labels = mnist_label[index_random_sample].flatten().astype(int)\n",
    "label = one_vs_all(example, models_list)"
   ]
  },
  {
   "cell_type": "code",
   "execution_count": 29,
   "metadata": {},
   "outputs": [
    {
     "data": {
      "image/png": "[encoded data removed]",
      "text/plain": [
       "<Figure size 1008x576 with 6 Axes>"
      ]
     },
     "metadata": {
      "needs_background": "light"
     },
     "output_type": "display_data"
    }
   ],
   "source": [
    "# Viewing results \n",
    "\n",
    "plt.figure(figsize=(14,8))\n",
    "for i in range(examples_number):\n",
    "    image = example[i].reshape(image_size_px,image_size_px)\n",
    "    plt.subplot(2,3,i+1)\n",
    "    plt.imshow(image)\n",
    "    title = f\"True label is: {true_labels[i]}, predicted as: {label[i]}\"\n",
    "    plt.title(title)"
   ]
  }
 ],
 "metadata": {
  "kernelspec": {
   "display_name": "Python 3",
   "language": "python",
   "name": "python3"
  },
  "language_info": {
   "codemirror_mode": {
    "name": "ipython",
    "version": 3
   },
   "file_extension": ".py",
   "mimetype": "text/x-python",
   "name": "python",
   "nbconvert_exporter": "python",
   "pygments_lexer": "ipython3",
   "version": "3.7.7"
  }
 },
 "nbformat": 4,
 "nbformat_minor": 4
}
